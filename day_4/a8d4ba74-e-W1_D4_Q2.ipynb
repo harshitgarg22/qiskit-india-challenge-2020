{
 "cells": [
  {
   "cell_type": "markdown",
   "metadata": {},
   "source": [
    "<img src=\"https://s3-ap-southeast-1.amazonaws.com/he-public-data/wordmark_black65ee464.png\" width=\"700\">"
   ]
  },
  {
   "cell_type": "markdown",
   "metadata": {},
   "source": [
    "# Day 4 - Question 2"
   ]
  },
  {
   "cell_type": "markdown",
   "metadata": {},
   "source": [
    "**Welcome to Day 4 Question 2 of the Qiskit Challenge India!**\n",
    "\n",
    "**Today's Reading Assignment:**\n",
    "\n",
    "- [Qiskit Textbook Chapter 2.3 - Phase Kickback](https://qiskit.org/textbook/ch-gates/phase-kickback.html)\n",
    "- [Qiskit Textbook Chapter 2.4 - More Circuit Identities](https://qiskit.org/textbook/ch-gates/more-circuit-identities.html)\n",
    "\n",
    "**Additional Resources:**\n",
    "\n",
    "- [Qiskit Documentation - Tutorials](https://qiskit.org/documentation/tutorials/circuits/index.html)\n",
    "- [Qiskit Documentation - Terra Circuit Library](https://qiskit.org/documentation/apidoc/circuit_library.html)\n",
    "- [Qiskit Tutorial - Advanced Circuit Visualization](https://github.com/Qiskit/qiskit-tutorials/blob/master/tutorials/circuits_advanced/3_advanced_circuit_visualization.ipynb)\n",
    "\n",
    "**For the Curious:**\n",
    "\n",
    "- [Circuit Sessions - Qiskit Circuit Library](https://www.youtube.com/watch?v=SsXJgAZ6aIg)\n",
    "- [Circuit Sessions - Transpiling Quantum Circuits](https://www.youtube.com/watch?v=2T3163VjvWQ)\n",
    "\n",
    "\n",
    "\n",
    "\n",
    "In [Chapter 2, Section 2.3](https://qiskit.org/textbook/ch-gates/phase-kickback.html) of the qiskit textbook we learned how to add phase into the system by using a control gate utilizing the idea of phase kickback. \n",
    "\n",
    "\n",
    "## Question: Modify the output of `init_circuit()` such that the system is transformed to $|\\circlearrowright\\rangle\\otimes|1\\rangle$  using only a single [`ControlledU3`](https://qiskit.org/documentation/stubs/qiskit.circuit.library.CU3Gate.html) gate\n",
    "\n",
    "Where the state \n",
    "\n",
    "$$|\\circlearrowright\\rangle = \\frac{1}{\\sqrt{2}}(|0\\rangle-i|1\\rangle)$$"
   ]
  },
  {
   "cell_type": "code",
   "execution_count": 1,
   "metadata": {},
   "outputs": [],
   "source": [
    "%matplotlib inline\n",
    "\n",
    "# defining a magic function for creating the submission file.\n",
    "from IPython.core.magic import register_cell_magic\n",
    "@register_cell_magic\n",
    "def write_and_run(line, cell):\n",
    "    argz = line.split()\n",
    "    file = argz[-1]\n",
    "    mode = 'w'\n",
    "    with open(file, mode) as f:\n",
    "        f.write(cell)\n",
    "    get_ipython().run_cell(cell)\n",
    "    \n",
    "# Importing Qiskit visualization libraries \n",
    "from qiskit.tools.jupyter import *\n",
    "from qiskit.visualization import *"
   ]
  },
  {
   "cell_type": "markdown",
   "metadata": {},
   "source": [
    "Now that we have imported what we require lets build our circuit in the `build_state()` function where we have already initialized a `QuantumCircuit` for two qubits. Your task is to add necessary gates as specified in the question and return the quantum circuit. In the case that you require classes that haven't already been imported include them in the space given below for importing libraries.\n",
    "\n",
    "**Note:** \n",
    "* Do not change the name of the functions `build_state()` and `init_circuit()`. \n",
    "* Do not make any changes inside `init_circuit()`. "
   ]
  },
  {
   "cell_type": "code",
   "execution_count": 2,
   "metadata": {},
   "outputs": [],
   "source": [
    "%%write_and_run answer_day4_question2.py\n",
    "\n",
    "### WRITE YOUR CODE BETWEEN THESE LINES - START\n",
    "    \n",
    "# import libraries that are used in the functions below.\n",
    "from qiskit import QuantumCircuit\n",
    "import numpy as np\n",
    "import math\n",
    "### WRITE YOUR CODE BETWEEN THESE LINES - END\n",
    "\n",
    "def init_circuit():\n",
    "    \n",
    "    # create a quantum circuit on two qubits\n",
    "    qc = QuantumCircuit(2)\n",
    "\n",
    "    # initializing the circuit\n",
    "    qc.h(0)\n",
    "    qc.x(1)\n",
    "    return qc\n",
    "\n",
    "# The initial state has been defined above. \n",
    "# You'll now have to apply necessary gates in the build_state() function to convert the state as asked in the question.\n",
    "\n",
    "def build_state():\n",
    "    \n",
    "    ### WRITE YOUR CODE BETWEEN THESE LINES - START\n",
    "    \n",
    "    # the initialized circuit\n",
    "    circuit = init_circuit()\n",
    "    circuit.cu3(0, math.pi/2, math.pi/2, 0, 1)\n",
    "    # apply a single cu3 gate\n",
    "    \n",
    "    ### WRITE YOUR CODE BETWEEN THESE LINES - END\n",
    "    return circuit"
   ]
  },
  {
   "cell_type": "markdown",
   "metadata": {},
   "source": [
    "**Circuit Diagram**"
   ]
  },
  {
   "cell_type": "code",
   "execution_count": null,
   "metadata": {},
   "outputs": [],
   "source": [
    "my_circuit = build_state()\n",
    "my_circuit.draw()"
   ]
  },
  {
   "cell_type": "markdown",
   "metadata": {},
   "source": [
    "**Bloch Sphere**"
   ]
  },
  {
   "cell_type": "markdown",
   "metadata": {},
   "source": [
    "Lets run the circuit we've built using a `statevector_simulator` and look at its state on a bloch sphere. Bloch sphere is ideal when you have to look at the state of a single qubit. And a Qsphere is used to visualize multiqubit states, however, we can also use multiple bloch spheres for each qubit. As you may expect the multiple bloch sphere approach doesn't work when the state is not [separable](https://en.wikipedia.org/wiki/Separable_state). You can check out the documentation [here](https://qiskit.org/documentation/tutorials/circuits/2_plotting_data_in_qiskit.html) for more plotting options."
   ]
  },
  {
   "cell_type": "code",
   "execution_count": null,
   "metadata": {},
   "outputs": [],
   "source": [
    "# importing the simulator\n",
    "from qiskit import execute, Aer\n",
    "\n",
    "backend = Aer.get_backend(\"statevector_simulator\")\n",
    "job = execute(my_circuit,backend=backend)\n",
    "statevector = job.result().get_statevector()\n",
    "plot_bloch_multivector(statevector)"
   ]
  },
  {
   "cell_type": "markdown",
   "metadata": {},
   "source": [
    "### Submitting the Answer\n",
    "\n",
    "Once the solution is complete make sure you: \n",
    "\n",
    "* Step 1: **Run the notebook** to generate your submission file named **answer_day4_question2.py** which is a **python file (.py)**. \n",
    "* Step 2: **Upload answer_day4_question2.py** on the HackerEarth platform to get the solution graded and submitted. \n"
   ]
  },
  {
   "cell_type": "code",
   "execution_count": null,
   "metadata": {},
   "outputs": [],
   "source": []
  }
 ],
 "metadata": {
  "kernelspec": {
   "display_name": "Python 3",
   "language": "python",
   "name": "python3"
  },
  "language_info": {
   "codemirror_mode": {
    "name": "ipython",
    "version": 3
   },
   "file_extension": ".py",
   "mimetype": "text/x-python",
   "name": "python",
   "nbconvert_exporter": "python",
   "pygments_lexer": "ipython3",
   "version": "3.8.5"
  }
 },
 "nbformat": 4,
 "nbformat_minor": 4
}
