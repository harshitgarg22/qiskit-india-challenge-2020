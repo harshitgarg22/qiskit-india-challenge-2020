{
 "cells": [
  {
   "cell_type": "markdown",
   "metadata": {
    "colab_type": "text",
    "id": "MgL1u5eYQwNF"
   },
   "source": [
    "<img src=\"https://s3-ap-southeast-1.amazonaws.com/he-public-data/wordmark_black65ee464.png\" width=\"700\">"
   ]
  },
  {
   "cell_type": "markdown",
   "metadata": {
    "colab_type": "text",
    "id": "I0xwagGvQwNH"
   },
   "source": [
    "# Day 2 - Question 1"
   ]
  },
  {
   "cell_type": "markdown",
   "metadata": {
    "colab_type": "text",
    "id": "nR56Y-uKQwNI"
   },
   "source": [
    "**Welcome to Day 2 Question 1 of the Quantum Challenge India!**\n",
    "\n",
    "**Today's Reading Assignment:**\n",
    "\n",
    "- [Qiskit Textbook Chapter 1.3 - Representing Qubit States](https://qiskit.org/textbook/ch-states/representing-qubit-states.html)\n",
    "- [Qiskit Textbook Chapter 1.4 - Single Qubit Gates](https://qiskit.org/textbook/ch-states/single-qubit-gates.html)\n",
    "- [Qiskit Textbook Chapter 1.5 - The Case for Quantum](https://qiskit.org/textbook/ch-states/case-for-quantum.html)\n",
    "\n",
    "**Additional Resources:**\n",
    "\n",
    "- [Qiskit Documentation - Getting Started With Qiskit](https://qiskit.org/documentation/getting_started.html) \n",
    "- [Qiskit Youtube - One Minute Qiskit](https://www.youtube.com/playlist?list=PLOFEBzvs-VvpOCmJ9BonUhf7NYB4d1p0e)\n",
    "- [Qiskit Youtube - Coding With Qiskit (Ep-1, 2, 3, 4)](https://www.youtube.com/playlist?list=PLOFEBzvs-Vvp2xg9-POLJhQwtVktlYGbY)\n",
    "\n",
    "**For the Curious:**\n",
    "\n",
    "- [Circuit Sessions - How to simulate a circuit](https://www.youtube.com/watch?v=VvP41TwY34o)\n",
    "\n",
    "\n",
    "In [Chapter 1, Section 1.4](https://qiskit.org/textbook/ch-states/single-qubit-gates.html), you have read about the general U3 Gate. Let us recollect its matrix representation which will be helpful in solving the problem below.\n",
    "\n",
    "$$\n",
    "U_3(\\theta, \\phi, \\lambda) = \\begin{bmatrix} \\cos(\\theta/2) & -e^{i\\lambda}\\sin(\\theta/2) \\\\\n",
    "            e^{i\\phi}\\sin(\\theta/2) & e^{i\\phi+i\\lambda}\\cos(\\theta/2)\n",
    "     \\end{bmatrix}\n",
    "$$\n",
    "\n",
    "## Question : Create the state given below using only one u3 gate\n",
    "\n",
    "$$|\\psi\\rangle = \\frac{1}{2}|0\\rangle+i\\frac{\\sqrt{3}}{2}|1\\rangle$$\n",
    "\n",
    "**Note:** Do not apply [barrier operations](https://youtu.be/tS2CMOyWFMQ)\n"
   ]
  },
  {
   "cell_type": "markdown",
   "metadata": {
    "colab_type": "text",
    "id": "tulqep9PQwNJ"
   },
   "source": [
    "### Installing required libraries"
   ]
  },
  {
   "cell_type": "code",
   "execution_count": 2,
   "metadata": {
    "colab": {},
    "colab_type": "code",
    "id": "TNySnto6QwNK"
   },
   "outputs": [
    {
     "name": "stdout",
     "output_type": "stream",
     "text": [
      "Qiskit version: {'qiskit-terra': '0.14.0', 'qiskit-aer': '0.5.1', 'qiskit-ignis': '0.3.0', 'qiskit-ibmq-provider': '0.7.0', 'qiskit-aqua': '0.7.0', 'qiskit': '0.19.0'}\n"
     ]
    }
   ],
   "source": [
    "# run this cell to install/upgrade all the required dependencies\n",
    "!pip install --upgrade qiskit==0.19.6 \n",
    "!pip install --upgrade numpy==1.18.5\n",
    "!pip install --upgrade matplotlib==3.2.0\n",
    "\n",
    "# the output will be cleared after installation\n",
    "from IPython.display import clear_output\n",
    "clear_output()\n",
    "\n",
    "import qiskit\n",
    "print(\"Qiskit version: {}\".format(qiskit.__qiskit_version__))"
   ]
  },
  {
   "cell_type": "markdown",
   "metadata": {
    "colab_type": "text",
    "id": "1JiOg94QQwNO"
   },
   "source": [
    "### Importing required libraries\n",
    "\n",
    "Once we have confirmed that the Qiskit version you are using is 0.19.6 (recommended) lets go ahead and import some visualization tools from Qiskit which will be useful later. Rest of the Qiskit imports will be done when required. "
   ]
  },
  {
   "cell_type": "code",
   "execution_count": 3,
   "metadata": {
    "colab": {},
    "colab_type": "code",
    "id": "XSy1njWJQwNP"
   },
   "outputs": [],
   "source": [
    "%matplotlib inline\n",
    "\n",
    "# defining a magic function for creating the submission file.\n",
    "from IPython.core.magic import register_cell_magic\n",
    "@register_cell_magic\n",
    "def write_and_run(line, cell):\n",
    "    argz = line.split()\n",
    "    file = argz[-1]\n",
    "    mode = 'w'\n",
    "    with open(file, mode) as f:\n",
    "        f.write(cell)\n",
    "    get_ipython().run_cell(cell)\n",
    "    \n",
    "# Importing Qiskit visualization libraries \n",
    "from qiskit.tools.jupyter import *\n",
    "from qiskit.visualization import *"
   ]
  },
  {
   "cell_type": "markdown",
   "metadata": {
    "colab_type": "text",
    "id": "hLxIZqgvQwNU"
   },
   "source": [
    "Now that we have imported what we require lets build our circuit in the `build_state()` function where we have already initialized a `QuantumCircuit` for one qubit. Your task is to add necessary gates as specified in the question and return the quantum circuit. In the case that you require classes that haven't already been imported include them in the space given below for importing libraries.\n",
    "\n",
    "**Note:** Do not change the name of the function `build_state()`. "
   ]
  },
  {
   "cell_type": "code",
   "execution_count": 6,
   "metadata": {
    "colab": {},
    "colab_type": "code",
    "id": "xes1co6QQwNV"
   },
   "outputs": [],
   "source": [
    "%%write_and_run answer_day2_question1.py\n",
    "\n",
    "### WRITE YOUR CODE BETWEEN THESE LINES - START\n",
    "    \n",
    "# import libraries that are used in the function below.\n",
    "from qiskit import QuantumCircuit\n",
    "import numpy as np\n",
    "import math\n",
    "    \n",
    "### WRITE YOUR CODE BETWEEN THESE LINES - END\n",
    "\n",
    "def build_state():\n",
    "\n",
    "    # intialized a quantum circuit on one qubit\n",
    "    circuit = QuantumCircuit(1)\n",
    "    \n",
    "    ### WRITE YOUR CODE BETWEEN THESE LINES - START\n",
    "    circuit.u3(2*math.pi/3,math.pi/2,0,0)\n",
    "    # apply the necessary u3 gate\n",
    "    \n",
    "    ### WRITE YOUR CODE BETWEEN THESE LINES - END\n",
    "    return circuit"
   ]
  },
  {
   "cell_type": "markdown",
   "metadata": {
    "colab_type": "text",
    "id": "p3Z0xzPCQwNa"
   },
   "source": [
    "**Circuit Diagram**"
   ]
  },
  {
   "cell_type": "code",
   "execution_count": 7,
   "metadata": {
    "colab": {},
    "colab_type": "code",
    "id": "MRQ5Xq-9QwNb"
   },
   "outputs": [
    {
     "data": {
      "text/html": [
       "<pre style=\"word-wrap: normal;white-space: pre;background: #fff0;line-height: 1.1;font-family: &quot;Courier New&quot;,Courier,monospace\">     ┌──────────────────┐\n",
       "q_0: ┤ U3(2pi/3,pi/2,0) ├\n",
       "     └──────────────────┘</pre>"
      ],
      "text/plain": [
       "     ┌──────────────────┐\n",
       "q_0: ┤ U3(2pi/3,pi/2,0) ├\n",
       "     └──────────────────┘"
      ]
     },
     "execution_count": 7,
     "metadata": {},
     "output_type": "execute_result"
    }
   ],
   "source": [
    "my_circuit1 = build_state()\n",
    "my_circuit1.draw()"
   ]
  },
  {
   "cell_type": "markdown",
   "metadata": {
    "colab_type": "text",
    "id": "XoOI2_JfQwNe"
   },
   "source": [
    "**Bloch Sphere**"
   ]
  },
  {
   "cell_type": "markdown",
   "metadata": {
    "colab_type": "text",
    "id": "WNhEp_YmQwNf"
   },
   "source": [
    "Lets run the circuit we've built using a `statevector_simulator` and look at its state on a bloch sphere. Bloch sphere is ideal when you have to look at the state of a single qubit. You can check out the documentation [here](https://qiskit.org/documentation/tutorials/circuits/2_plotting_data_in_qiskit.html) for more plotting options. "
   ]
  },
  {
   "cell_type": "code",
   "execution_count": 8,
   "metadata": {
    "colab": {},
    "colab_type": "code",
    "id": "ttoIQVNtQwNg"
   },
   "outputs": [
    {
     "data": {
      "image/png": "[encoded data removed]",
      "text/plain": [
       "<Figure size 288x288 with 1 Axes>"
      ]
     },
     "execution_count": 8,
     "metadata": {},
     "output_type": "execute_result"
    }
   ],
   "source": [
    "# importing the simulator\n",
    "from qiskit import execute, Aer\n",
    "\n",
    "backend = Aer.get_backend(\"statevector_simulator\")\n",
    "job = execute(my_circuit1,backend=backend)\n",
    "statevector1 = job.result().get_statevector()\n",
    "plot_bloch_multivector(statevector1)"
   ]
  },
  {
   "cell_type": "markdown",
   "metadata": {
    "colab_type": "text",
    "id": "kkPctITeQwNk"
   },
   "source": [
    "### Submitting the Answer\n",
    "\n",
    "Once the solution is complete make sure you: \n",
    "\n",
    "* Step 1: **Run the notebook** to generate your submission file named **answer_day2_question1.py** which is a **python file (.py)**. \n",
    "* Step 2: **Upload answer_day2_question1.py** on the HackerEarth platform to get the solution graded and submitted. \n"
   ]
  }
 ],
 "metadata": {
  "colab": {
   "collapsed_sections": [],
   "name": "Day 2 Q1.ipynb",
   "provenance": []
  },
  "kernelspec": {
   "display_name": "qgss",
   "language": "python",
   "name": "qgss"
  },
  "language_info": {
   "codemirror_mode": {
    "name": "ipython",
    "version": 3
   },
   "file_extension": ".py",
   "mimetype": "text/x-python",
   "name": "python",
   "nbconvert_exporter": "python",
   "pygments_lexer": "ipython3",
   "version": "3.8.5"
  }
 },
 "nbformat": 4,
 "nbformat_minor": 1
}
